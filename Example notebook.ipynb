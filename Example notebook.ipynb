{
 "cells": [
  {
   "cell_type": "code",
   "execution_count": 1,
   "metadata": {},
   "outputs": [],
   "source": [
    "# If you want to execute the notebook on colab, uncommet the following line.\n",
    "#! git clone https://github.com/TimotheeMathieu/MOM_NN\n",
    "\n",
    "import numpy as np\n",
    "from tensorflow.keras.datasets import mnist\n",
    "from tensorflow.keras.models import Model, load_model\n",
    "from tensorflow.keras.layers import Input, Dense\n",
    "from tensorflow.keras.optimizers import Adam,RMSprop, Nadam\n",
    "\n",
    "from tensorflow.keras.utils import to_categorical\n",
    "(X_train, y_train), (X_test, y_test) = mnist.load_data()"
   ]
  },
  {
   "cell_type": "code",
   "execution_count": 2,
   "metadata": {},
   "outputs": [
    {
     "name": "stdout",
     "output_type": "stream",
     "text": [
      "(60000, 28, 28)\n"
     ]
    }
   ],
   "source": [
    "print(X_train.shape)\n",
    "# Flatten the data\n",
    "X_train = X_train.reshape([X_train.shape[0], 784])\n",
    "X_test = X_test.reshape([X_test.shape[0], 784])"
   ]
  },
  {
   "cell_type": "code",
   "execution_count": 3,
   "metadata": {},
   "outputs": [],
   "source": [
    "# Add 50 outliers randomly\n",
    "X_train[np.random.permutation(len(X_train))[:50], :] = 0 # corresponds to an all black image"
   ]
  },
  {
   "cell_type": "code",
   "execution_count": 4,
   "metadata": {},
   "outputs": [],
   "source": [
    "# one hot encoding\n",
    "y_train = to_categorical(y_train, num_classes=10)\n",
    "y_test = to_categorical(y_test, num_classes=10)"
   ]
  },
  {
   "cell_type": "code",
   "execution_count": 5,
   "metadata": {},
   "outputs": [
    {
     "name": "stdout",
     "output_type": "stream",
     "text": [
      "(60000, 784) (60000, 10)\n"
     ]
    }
   ],
   "source": [
    "print(X_train.shape, y_train.shape)"
   ]
  },
  {
   "cell_type": "code",
   "execution_count": 6,
   "metadata": {},
   "outputs": [
    {
     "name": "stdout",
     "output_type": "stream",
     "text": [
      "Model: \"model\"\n",
      "_________________________________________________________________\n",
      "Layer (type)                 Output Shape              Param #   \n",
      "=================================================================\n",
      "input_1 (InputLayer)         [(None, 784)]             0         \n",
      "_________________________________________________________________\n",
      "dense (Dense)                (None, 32)                25120     \n",
      "_________________________________________________________________\n",
      "dense_1 (Dense)              (None, 10)                330       \n",
      "=================================================================\n",
      "Total params: 25,450\n",
      "Trainable params: 25,450\n",
      "Non-trainable params: 0\n",
      "_________________________________________________________________\n"
     ]
    }
   ],
   "source": [
    "# Use dense network for simplification, a convnet would have been better.\n",
    "input_layer = Input(shape=(len(X_train[0]), ))\n",
    "encoder = Dense(32, activation=\"relu\")(input_layer)\n",
    "encoder = Dense(10, activation=\"softmax\")(encoder)\n",
    "model = Model(inputs=input_layer, outputs=encoder)\n",
    "model.summary()"
   ]
  },
  {
   "cell_type": "code",
   "execution_count": 7,
   "metadata": {},
   "outputs": [],
   "source": [
    "model.compile(loss='categorical_crossentropy', optimizer='adam', metrics=['accuracy'])"
   ]
  },
  {
   "cell_type": "code",
   "execution_count": 8,
   "metadata": {},
   "outputs": [],
   "source": [
    "from sklearn.metrics import roc_auc_score"
   ]
  },
  {
   "cell_type": "code",
   "execution_count": 9,
   "metadata": {},
   "outputs": [
    {
     "name": "stdout",
     "output_type": "stream",
     "text": [
      "Epoch 1/10\n",
      "1875/1875 [==============================] - 4s 2ms/step - loss: 6.4566 - accuracy: 0.3927\n",
      "Epoch 2/10\n",
      "1875/1875 [==============================] - 3s 2ms/step - loss: 0.8714 - accuracy: 0.7357\n",
      "Epoch 3/10\n",
      "1875/1875 [==============================] - 3s 1ms/step - loss: 0.5891 - accuracy: 0.8481\n",
      "Epoch 4/10\n",
      "1875/1875 [==============================] - 4s 2ms/step - loss: 0.4570 - accuracy: 0.8829\n",
      "Epoch 5/10\n",
      "1875/1875 [==============================] - 4s 2ms/step - loss: 0.3925 - accuracy: 0.8984\n",
      "Epoch 6/10\n",
      "1875/1875 [==============================] - 3s 2ms/step - loss: 0.3539 - accuracy: 0.9073\n",
      "Epoch 7/10\n",
      "1875/1875 [==============================] - 3s 1ms/step - loss: 0.3290 - accuracy: 0.9124\n",
      "Epoch 8/10\n",
      "1875/1875 [==============================] - 4s 2ms/step - loss: 0.3169 - accuracy: 0.9159\n",
      "Epoch 9/10\n",
      "1875/1875 [==============================] - 3s 2ms/step - loss: 0.3210 - accuracy: 0.9140\n",
      "Epoch 10/10\n",
      "1875/1875 [==============================] - 3s 2ms/step - loss: 0.3058 - accuracy: 0.9172\n"
     ]
    },
    {
     "data": {
      "text/plain": [
       "<tensorflow.python.keras.callbacks.History at 0x7f597ea48c40>"
      ]
     },
     "execution_count": 9,
     "metadata": {},
     "output_type": "execute_result"
    }
   ],
   "source": [
    "model.fit(X_train, y_train, epochs=10)"
   ]
  },
  {
   "cell_type": "code",
   "execution_count": 10,
   "metadata": {},
   "outputs": [
    {
     "name": "stdout",
     "output_type": "stream",
     "text": [
      "0.9075\n"
     ]
    }
   ],
   "source": [
    "pred = model.predict(X_test).argmax(axis=1)\n",
    "true_label  = y_test.argmax(axis=1)\n",
    "print(np.mean(true_label == pred))"
   ]
  },
  {
   "cell_type": "markdown",
   "metadata": {},
   "source": [
    "# Use MOM"
   ]
  },
  {
   "cell_type": "code",
   "execution_count": 11,
   "metadata": {},
   "outputs": [],
   "source": [
    "from keras_mom import MOM_model\n",
    "from tensorflow.keras.losses import CategoricalCrossentropy, Reduction\n",
    "# Initialize with the pre-trained model just used\n",
    "model2 = MOM_model(model, CategoricalCrossentropy(reduction=Reduction.NONE), \n",
    "                   K=71, batch_size=64, max_iter=100, verbose=1)"
   ]
  },
  {
   "cell_type": "code",
   "execution_count": 12,
   "metadata": {},
   "outputs": [
    {
     "name": "stdout",
     "output_type": "stream",
     "text": [
      "14/14 [==============================] - 0s 1ms/step - loss: 0.2839 - accuracy: 0.9290\n",
      "Epoch 2/2\n",
      "14/14 [==============================] - 0s 1ms/step - loss: 0.2837 - accuracy: 0.9231\n",
      "Epoch 3/3\n",
      "14/14 [==============================] - 0s 1ms/step - loss: 0.2833 - accuracy: 0.9219\n",
      "Epoch 4/4\n",
      "14/14 [==============================] - 0s 1ms/step - loss: 0.2910 - accuracy: 0.9314\n",
      "Epoch 5/5\n",
      "14/14 [==============================] - 0s 1ms/step - loss: 0.2738 - accuracy: 0.9172\n",
      "Epoch 6/6\n",
      "14/14 [==============================] - 0s 1ms/step - loss: 0.2757 - accuracy: 0.9112\n",
      "Epoch 7/7\n",
      "14/14 [==============================] - 0s 1ms/step - loss: 0.2612 - accuracy: 0.9349\n",
      "Epoch 8/8\n",
      "14/14 [==============================] - 0s 1ms/step - loss: 0.2570 - accuracy: 0.9278\n",
      "Epoch 9/9\n",
      "14/14 [==============================] - 0s 1ms/step - loss: 0.2602 - accuracy: 0.9231\n",
      "Epoch 10/10\n",
      "14/14 [==============================] - 0s 1ms/step - loss: 0.2669 - accuracy: 0.9373\n",
      "Epoch 11/11\n",
      "14/14 [==============================] - 0s 1ms/step - loss: 0.2498 - accuracy: 0.9337\n",
      "Epoch 12/12\n",
      "14/14 [==============================] - 0s 1ms/step - loss: 0.2687 - accuracy: 0.9278\n",
      "Epoch 13/13\n",
      "14/14 [==============================] - 0s 1ms/step - loss: 0.2706 - accuracy: 0.9349\n",
      "Epoch 14/14\n",
      "14/14 [==============================] - 0s 1ms/step - loss: 0.2613 - accuracy: 0.9325\n",
      "Epoch 15/15\n",
      "14/14 [==============================] - 0s 1ms/step - loss: 0.2647 - accuracy: 0.9325\n",
      "Epoch 16/16\n",
      "14/14 [==============================] - 0s 1ms/step - loss: 0.2440 - accuracy: 0.9207\n",
      "Epoch 17/17\n",
      "14/14 [==============================] - 0s 1ms/step - loss: 0.2748 - accuracy: 0.9290\n",
      "Epoch 18/18\n",
      "14/14 [==============================] - 0s 1ms/step - loss: 0.2689 - accuracy: 0.9325\n",
      "Epoch 19/19\n",
      "14/14 [==============================] - 0s 1ms/step - loss: 0.2629 - accuracy: 0.9195\n",
      "Epoch 20/20\n",
      "14/14 [==============================] - 0s 1ms/step - loss: 0.2796 - accuracy: 0.9290\n",
      "Epoch 21/21\n",
      "14/14 [==============================] - 0s 1ms/step - loss: 0.2583 - accuracy: 0.9314\n",
      "Epoch 22/22\n",
      "14/14 [==============================] - 0s 1ms/step - loss: 0.2878 - accuracy: 0.9266\n",
      "Epoch 23/23\n",
      "14/14 [==============================] - 0s 1ms/step - loss: 0.2669 - accuracy: 0.9396\n",
      "Epoch 24/24\n",
      "14/14 [==============================] - 0s 1ms/step - loss: 0.2544 - accuracy: 0.9278\n",
      "Epoch 25/25\n",
      "14/14 [==============================] - 0s 1ms/step - loss: 0.2728 - accuracy: 0.9254\n",
      "Epoch 26/26\n",
      "14/14 [==============================] - 0s 1ms/step - loss: 0.2669 - accuracy: 0.9349\n",
      "Epoch 27/27\n",
      "14/14 [==============================] - 0s 1ms/step - loss: 0.2546 - accuracy: 0.9337\n",
      "Epoch 28/28\n",
      "14/14 [==============================] - 0s 1ms/step - loss: 0.2612 - accuracy: 0.9314\n",
      "Epoch 29/29\n",
      "14/14 [==============================] - 0s 1ms/step - loss: 0.2499 - accuracy: 0.9337\n",
      "Epoch 30/30\n",
      "14/14 [==============================] - 0s 1ms/step - loss: 0.2698 - accuracy: 0.9266\n",
      "Epoch 31/31\n",
      "14/14 [==============================] - 0s 1ms/step - loss: 0.2683 - accuracy: 0.9291\n",
      "Epoch 32/32\n",
      "14/14 [==============================] - 0s 1ms/step - loss: 0.2659 - accuracy: 0.9183\n",
      "Epoch 33/33\n",
      "14/14 [==============================] - 0s 1ms/step - loss: 0.2688 - accuracy: 0.9195\n",
      "Epoch 34/34\n",
      "14/14 [==============================] - 0s 1ms/step - loss: 0.2815 - accuracy: 0.9207\n",
      "Epoch 35/35\n",
      "14/14 [==============================] - 0s 1ms/step - loss: 0.2712 - accuracy: 0.9172\n",
      "Epoch 36/36\n",
      "14/14 [==============================] - 0s 1ms/step - loss: 0.2656 - accuracy: 0.9349\n",
      "Epoch 37/37\n",
      "14/14 [==============================] - 0s 1ms/step - loss: 0.2631 - accuracy: 0.9456\n",
      "Epoch 38/38\n",
      "14/14 [==============================] - 0s 1ms/step - loss: 0.2702 - accuracy: 0.9195\n",
      "Epoch 39/39\n",
      "14/14 [==============================] - 0s 1ms/step - loss: 0.2820 - accuracy: 0.9195\n",
      "Epoch 40/40\n",
      "14/14 [==============================] - 0s 2ms/step - loss: 0.2417 - accuracy: 0.9361\n",
      "Epoch 41/41\n",
      "14/14 [==============================] - 0s 1ms/step - loss: 0.2616 - accuracy: 0.9444\n",
      "Epoch 42/42\n",
      "14/14 [==============================] - 0s 1ms/step - loss: 0.2551 - accuracy: 0.9302\n",
      "Epoch 43/43\n",
      "14/14 [==============================] - 0s 1ms/step - loss: 0.2630 - accuracy: 0.9314\n",
      "Epoch 44/44\n",
      "14/14 [==============================] - 0s 1ms/step - loss: 0.2574 - accuracy: 0.9314\n",
      "Epoch 45/45\n",
      "14/14 [==============================] - 0s 1ms/step - loss: 0.2666 - accuracy: 0.9254\n",
      "Epoch 46/46\n",
      "14/14 [==============================] - 0s 1ms/step - loss: 0.2782 - accuracy: 0.9243\n",
      "Epoch 47/47\n",
      "14/14 [==============================] - 0s 1ms/step - loss: 0.2691 - accuracy: 0.9266\n",
      "Epoch 48/48\n",
      "14/14 [==============================] - 0s 1ms/step - loss: 0.2625 - accuracy: 0.9396\n",
      "Epoch 49/49\n",
      "14/14 [==============================] - 0s 1ms/step - loss: 0.2661 - accuracy: 0.9314\n",
      "Epoch 50/50\n",
      "14/14 [==============================] - 0s 1ms/step - loss: 0.2475 - accuracy: 0.9337\n",
      "Epoch 51/51\n",
      "14/14 [==============================] - 0s 1ms/step - loss: 0.2453 - accuracy: 0.9385\n",
      "Epoch 52/52\n",
      "14/14 [==============================] - 0s 1ms/step - loss: 0.2531 - accuracy: 0.9278\n",
      "Epoch 53/53\n",
      "14/14 [==============================] - 0s 2ms/step - loss: 0.2468 - accuracy: 0.9432\n",
      "Epoch 54/54\n",
      "14/14 [==============================] - 0s 1ms/step - loss: 0.2874 - accuracy: 0.9396\n",
      "Epoch 55/55\n",
      "14/14 [==============================] - 0s 2ms/step - loss: 0.2573 - accuracy: 0.9349\n",
      "Epoch 56/56\n",
      "14/14 [==============================] - 0s 1ms/step - loss: 0.2533 - accuracy: 0.9325\n",
      "Epoch 57/57\n",
      "14/14 [==============================] - 0s 2ms/step - loss: 0.2543 - accuracy: 0.9325\n",
      "Epoch 58/58\n",
      "14/14 [==============================] - 0s 1ms/step - loss: 0.2516 - accuracy: 0.9254\n",
      "Epoch 59/59\n",
      "14/14 [==============================] - 0s 1ms/step - loss: 0.2680 - accuracy: 0.9266\n",
      "Epoch 60/60\n",
      "14/14 [==============================] - 0s 2ms/step - loss: 0.2496 - accuracy: 0.9290\n",
      "Epoch 61/61\n",
      "14/14 [==============================] - 0s 1ms/step - loss: 0.2640 - accuracy: 0.9290\n",
      "Epoch 62/62\n",
      "14/14 [==============================] - 0s 1ms/step - loss: 0.2683 - accuracy: 0.9208\n",
      "Epoch 63/63\n",
      "14/14 [==============================] - 0s 1ms/step - loss: 0.2649 - accuracy: 0.9325\n",
      "Epoch 64/64\n",
      "14/14 [==============================] - 0s 2ms/step - loss: 0.2664 - accuracy: 0.9302\n",
      "Epoch 65/65\n",
      "14/14 [==============================] - 0s 1ms/step - loss: 0.2514 - accuracy: 0.9219\n",
      "Epoch 66/66\n",
      "14/14 [==============================] - 0s 1ms/step - loss: 0.2636 - accuracy: 0.9361\n",
      "Epoch 67/67\n",
      "14/14 [==============================] - 0s 2ms/step - loss: 0.2696 - accuracy: 0.9325\n",
      "Epoch 68/68\n",
      "14/14 [==============================] - 0s 1ms/step - loss: 0.2492 - accuracy: 0.9302\n",
      "Epoch 69/69\n",
      "14/14 [==============================] - 0s 1ms/step - loss: 0.2671 - accuracy: 0.9373\n",
      "Epoch 70/70\n",
      "14/14 [==============================] - 0s 2ms/step - loss: 0.2527 - accuracy: 0.9254\n",
      "Epoch 71/71\n",
      "14/14 [==============================] - 0s 1ms/step - loss: 0.2572 - accuracy: 0.9195\n",
      "Epoch 72/72\n",
      "14/14 [==============================] - 0s 1ms/step - loss: 0.2516 - accuracy: 0.9444\n",
      "Epoch 73/73\n",
      "14/14 [==============================] - 0s 1ms/step - loss: 0.2507 - accuracy: 0.9325\n",
      "Epoch 74/74\n",
      "14/14 [==============================] - 0s 1ms/step - loss: 0.2543 - accuracy: 0.9207\n",
      "Epoch 75/75\n",
      "14/14 [==============================] - 0s 2ms/step - loss: 0.2541 - accuracy: 0.9361\n",
      "Epoch 76/76\n",
      "14/14 [==============================] - 0s 1ms/step - loss: 0.2396 - accuracy: 0.9420\n",
      "Epoch 77/77\n",
      "14/14 [==============================] - 0s 1ms/step - loss: 0.2480 - accuracy: 0.9290\n",
      "Epoch 78/78\n",
      "14/14 [==============================] - 0s 1ms/step - loss: 0.2578 - accuracy: 0.9337\n",
      "Epoch 79/79\n",
      "14/14 [==============================] - 0s 1ms/step - loss: 0.2854 - accuracy: 0.9302\n",
      "Epoch 80/80\n",
      "14/14 [==============================] - 0s 1ms/step - loss: 0.2637 - accuracy: 0.9231\n",
      "Epoch 81/81\n",
      "14/14 [==============================] - 0s 1ms/step - loss: 0.2786 - accuracy: 0.9207\n",
      "Epoch 82/82\n",
      "14/14 [==============================] - 0s 1ms/step - loss: 0.2688 - accuracy: 0.9195\n",
      "Epoch 83/83\n",
      "14/14 [==============================] - 0s 1ms/step - loss: 0.2836 - accuracy: 0.9219\n",
      "Epoch 84/84\n"
     ]
    },
    {
     "name": "stdout",
     "output_type": "stream",
     "text": [
      "14/14 [==============================] - 0s 1ms/step - loss: 0.3041 - accuracy: 0.9183\n",
      "Epoch 85/85\n",
      "14/14 [==============================] - 0s 1ms/step - loss: 0.2708 - accuracy: 0.9302\n",
      "Epoch 86/86\n",
      "14/14 [==============================] - 0s 1ms/step - loss: 0.2860 - accuracy: 0.9148\n",
      "Epoch 87/87\n",
      "14/14 [==============================] - 0s 1ms/step - loss: 0.2821 - accuracy: 0.9266\n",
      "Epoch 88/88\n",
      "14/14 [==============================] - 0s 2ms/step - loss: 0.2627 - accuracy: 0.9314\n",
      "Epoch 89/89\n",
      "14/14 [==============================] - 0s 1ms/step - loss: 0.2527 - accuracy: 0.9266\n",
      "Epoch 90/90\n",
      "14/14 [==============================] - 0s 1ms/step - loss: 0.2491 - accuracy: 0.9337\n",
      "Epoch 91/91\n",
      "14/14 [==============================] - 0s 1ms/step - loss: 0.2592 - accuracy: 0.9231\n",
      "Epoch 92/92\n",
      "14/14 [==============================] - 0s 1ms/step - loss: 0.2573 - accuracy: 0.9325\n",
      "Epoch 93/93\n",
      "14/14 [==============================] - 0s 1ms/step - loss: 0.2642 - accuracy: 0.9149\n",
      "Epoch 94/94\n",
      "14/14 [==============================] - 0s 1ms/step - loss: 0.2553 - accuracy: 0.9337\n",
      "Epoch 95/95\n",
      "14/14 [==============================] - 0s 1ms/step - loss: 0.2814 - accuracy: 0.9337\n",
      "Epoch 96/96\n",
      "14/14 [==============================] - 0s 1ms/step - loss: 0.2671 - accuracy: 0.9361\n",
      "Epoch 97/97\n",
      "14/14 [==============================] - 0s 1ms/step - loss: 0.2282 - accuracy: 0.9396\n",
      "Epoch 98/98\n",
      "14/14 [==============================] - 0s 1ms/step - loss: 0.2559 - accuracy: 0.9314\n",
      "Epoch 99/99\n",
      "14/14 [==============================] - 0s 1ms/step - loss: 0.2602 - accuracy: 0.9219\n",
      "Epoch 100/100\n",
      "14/14 [==============================] - 0s 1ms/step - loss: 0.2586 - accuracy: 0.9314\n"
     ]
    },
    {
     "name": "stderr",
     "output_type": "stream",
     "text": [
      "/home/frost/info/venv/python38_venv/lib/python3.8/site-packages/sklearn/base.py:209: FutureWarning: From version 0.24, get_params will raise an AttributeError if a parameter cannot be retrieved as an instance attribute. Previously it would return None.\n",
      "  warnings.warn('From version 0.24, get_params will raise an '\n"
     ]
    },
    {
     "data": {
      "text/plain": [
       "MOM_model(K=71, batch_size=64,\n",
       "          loss=<tensorflow.python.keras.losses.CategoricalCrossentropy object at 0x7f597c338bb0>,\n",
       "          model=<tensorflow.python.keras.engine.functional.Functional object at 0x7f5a3ca129d0>,\n",
       "          verbose=1)"
      ]
     },
     "execution_count": 12,
     "metadata": {},
     "output_type": "execute_result"
    }
   ],
   "source": [
    "model2.fit(X_train, y_train)\n",
    "# code not really optimized but it computes. Because each epoch is only on sample_size/K points\n",
    "# it needs more iterations to converge."
   ]
  },
  {
   "cell_type": "code",
   "execution_count": 15,
   "metadata": {},
   "outputs": [
    {
     "name": "stdout",
     "output_type": "stream",
     "text": [
      "0.9161\n"
     ]
    }
   ],
   "source": [
    "pred = model2.predict(X_test).argmax(axis=1)\n",
    "true_label  = y_test.argmax(axis=1)\n",
    "print(np.mean(true_label == pred))"
   ]
  },
  {
   "cell_type": "code",
   "execution_count": 16,
   "metadata": {},
   "outputs": [
    {
     "data": {
      "text/plain": [
       "array([0, 3, 6, 9])"
      ]
     },
     "execution_count": 16,
     "metadata": {},
     "output_type": "execute_result"
    }
   ],
   "source": [
    "np.arange(0, 10,3)"
   ]
  },
  {
   "cell_type": "code",
   "execution_count": null,
   "metadata": {},
   "outputs": [],
   "source": []
  }
 ],
 "metadata": {
  "kernelspec": {
   "display_name": "python38env",
   "language": "python",
   "name": "python38env"
  },
  "language_info": {
   "codemirror_mode": {
    "name": "ipython",
    "version": 3
   },
   "file_extension": ".py",
   "mimetype": "text/x-python",
   "name": "python",
   "nbconvert_exporter": "python",
   "pygments_lexer": "ipython3",
   "version": "3.8.6"
  }
 },
 "nbformat": 4,
 "nbformat_minor": 4
}
